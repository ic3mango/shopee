{
 "cells": [
  {
   "cell_type": "markdown",
   "metadata": {},
   "source": [
    "## Task\n",
    "1. Identify all shops that are deemed to have conducted order brushing.\n",
    "2. For each shop that is identified to have conducted order brushing, identify the buyers suspected to have conducted order brushing for that shop.\n",
    "\n",
    "Definition of order brushing\n",
    "- concentration_rate >= 3\n",
    "- concentration_rate = num_orders_1hr / num_unique_buyer_1hr\n",
    "- **suspicious buyers** are deemed to be the buyer that contributed the highest proportion of orders to a shop"
   ]
  },
  {
   "cell_type": "code",
   "execution_count": 158,
   "metadata": {},
   "outputs": [],
   "source": [
    "import pandas as pd\n",
    "import numpy as np\n",
    "import matplotlib.pyplot as plt"
   ]
  },
  {
   "cell_type": "code",
   "execution_count": 159,
   "metadata": {},
   "outputs": [],
   "source": [
    "df = pd.read_csv('order_brush_order.csv')"
   ]
  },
  {
   "cell_type": "code",
   "execution_count": 160,
   "metadata": {},
   "outputs": [
    {
     "name": "stdout",
     "output_type": "stream",
     "text": [
      "<class 'pandas.core.frame.DataFrame'>\n",
      "RangeIndex: 222750 entries, 0 to 222749\n",
      "Data columns (total 4 columns):\n",
      " #   Column      Non-Null Count   Dtype \n",
      "---  ------      --------------   ----- \n",
      " 0   orderid     222750 non-null  int64 \n",
      " 1   shopid      222750 non-null  int64 \n",
      " 2   userid      222750 non-null  int64 \n",
      " 3   event_time  222750 non-null  object\n",
      "dtypes: int64(3), object(1)\n",
      "memory usage: 6.8+ MB\n"
     ]
    }
   ],
   "source": [
    "df.info()"
   ]
  },
  {
   "cell_type": "code",
   "execution_count": 161,
   "metadata": {},
   "outputs": [
    {
     "data": {
      "text/html": [
       "<div>\n",
       "<style scoped>\n",
       "    .dataframe tbody tr th:only-of-type {\n",
       "        vertical-align: middle;\n",
       "    }\n",
       "\n",
       "    .dataframe tbody tr th {\n",
       "        vertical-align: top;\n",
       "    }\n",
       "\n",
       "    .dataframe thead th {\n",
       "        text-align: right;\n",
       "    }\n",
       "</style>\n",
       "<table border=\"1\" class=\"dataframe\">\n",
       "  <thead>\n",
       "    <tr style=\"text-align: right;\">\n",
       "      <th></th>\n",
       "      <th>orderid</th>\n",
       "      <th>shopid</th>\n",
       "      <th>userid</th>\n",
       "    </tr>\n",
       "  </thead>\n",
       "  <tbody>\n",
       "    <tr>\n",
       "      <th>count</th>\n",
       "      <td>2.227500e+05</td>\n",
       "      <td>2.227500e+05</td>\n",
       "      <td>2.227500e+05</td>\n",
       "    </tr>\n",
       "    <tr>\n",
       "      <th>mean</th>\n",
       "      <td>3.130027e+13</td>\n",
       "      <td>9.433117e+07</td>\n",
       "      <td>9.802880e+07</td>\n",
       "    </tr>\n",
       "    <tr>\n",
       "      <th>std</th>\n",
       "      <td>1.222774e+11</td>\n",
       "      <td>5.695790e+07</td>\n",
       "      <td>6.839048e+07</td>\n",
       "    </tr>\n",
       "    <tr>\n",
       "      <th>min</th>\n",
       "      <td>3.107520e+13</td>\n",
       "      <td>1.000900e+04</td>\n",
       "      <td>1.000700e+04</td>\n",
       "    </tr>\n",
       "    <tr>\n",
       "      <th>25%</th>\n",
       "      <td>3.120360e+13</td>\n",
       "      <td>4.980267e+07</td>\n",
       "      <td>3.508127e+07</td>\n",
       "    </tr>\n",
       "    <tr>\n",
       "      <th>50%</th>\n",
       "      <td>3.130561e+13</td>\n",
       "      <td>9.033636e+07</td>\n",
       "      <td>9.309625e+07</td>\n",
       "    </tr>\n",
       "    <tr>\n",
       "      <th>75%</th>\n",
       "      <td>3.140604e+13</td>\n",
       "      <td>1.475053e+08</td>\n",
       "      <td>1.590612e+08</td>\n",
       "    </tr>\n",
       "    <tr>\n",
       "      <th>max</th>\n",
       "      <td>3.150720e+13</td>\n",
       "      <td>2.154352e+08</td>\n",
       "      <td>2.155262e+08</td>\n",
       "    </tr>\n",
       "  </tbody>\n",
       "</table>\n",
       "</div>"
      ],
      "text/plain": [
       "            orderid        shopid        userid\n",
       "count  2.227500e+05  2.227500e+05  2.227500e+05\n",
       "mean   3.130027e+13  9.433117e+07  9.802880e+07\n",
       "std    1.222774e+11  5.695790e+07  6.839048e+07\n",
       "min    3.107520e+13  1.000900e+04  1.000700e+04\n",
       "25%    3.120360e+13  4.980267e+07  3.508127e+07\n",
       "50%    3.130561e+13  9.033636e+07  9.309625e+07\n",
       "75%    3.140604e+13  1.475053e+08  1.590612e+08\n",
       "max    3.150720e+13  2.154352e+08  2.155262e+08"
      ]
     },
     "execution_count": 161,
     "metadata": {},
     "output_type": "execute_result"
    }
   ],
   "source": [
    "df.describe()"
   ]
  },
  {
   "cell_type": "code",
   "execution_count": 162,
   "metadata": {},
   "outputs": [
    {
     "data": {
      "text/plain": [
       "('2019-12-27 00:00:00', '2019-12-31 23:59:56')"
      ]
     },
     "execution_count": 162,
     "metadata": {},
     "output_type": "execute_result"
    }
   ],
   "source": [
    "df.event_time.min(), df.event_time.max()"
   ]
  },
  {
   "cell_type": "code",
   "execution_count": 163,
   "metadata": {},
   "outputs": [],
   "source": [
    "df['event_time'] = df['event_time'].astype('datetime64[ns]')"
   ]
  },
  {
   "cell_type": "markdown",
   "metadata": {},
   "source": [
    "### Trying to define whether order brushing has occurred"
   ]
  },
  {
   "cell_type": "markdown",
   "metadata": {},
   "source": [
    "Simplified approach\n",
    "> Segregating orders into 1 hr interval\n",
    "> Calculating concentration rate based on the 1 hr intervals to detect if order brushing has occurred\n",
    "\n",
    "To-do\n",
    "> Detect instataneous concentration rate spikes"
   ]
  },
  {
   "cell_type": "code",
   "execution_count": 164,
   "metadata": {},
   "outputs": [],
   "source": [
    "orders_per_hr = df.groupby(['shopid', pd.Grouper(key='event_time', freq='h')]).orderid.count()\n",
    "unique_buyers_per_hr = df.groupby(['shopid', pd.Grouper(key='event_time', freq='h')]).userid.nunique()"
   ]
  },
  {
   "cell_type": "code",
   "execution_count": 165,
   "metadata": {},
   "outputs": [],
   "source": [
    "concentration_rate_per_hr = orders_per_hr / unique_buyers_per_hr\n",
    "concentration_rate_mask = concentration_rate_per_hr >= 3.0\n",
    "order_brush_shops = concentration_rate_mask.index.get_level_values('shopid')[concentration_rate_mask].values"
   ]
  },
  {
   "cell_type": "code",
   "execution_count": 166,
   "metadata": {},
   "outputs": [
    {
     "data": {
      "text/plain": [
       "194"
      ]
     },
     "execution_count": 166,
     "metadata": {},
     "output_type": "execute_result"
    }
   ],
   "source": [
    "len(set(order_brush_shops))"
   ]
  },
  {
   "cell_type": "code",
   "execution_count": 167,
   "metadata": {},
   "outputs": [],
   "source": [
    "def extract_common_value(x):\n",
    "    mode_list = x.mode()\n",
    "    if len(mode_list) <= 1:\n",
    "        return mode_list[0]\n",
    "    else:\n",
    "        return '&'.join([str(c) for c in sorted(mode_list)])"
   ]
  },
  {
   "cell_type": "code",
   "execution_count": 168,
   "metadata": {},
   "outputs": [],
   "source": [
    "suspicious = df[df['shopid'].isin(order_brush_shops)].groupby('shopid')['userid'].apply(extract_common_value)\n",
    "suspicious = suspicious.to_frame()"
   ]
  },
  {
   "cell_type": "markdown",
   "metadata": {},
   "source": [
    "### Preparing for Submission"
   ]
  },
  {
   "cell_type": "code",
   "execution_count": 169,
   "metadata": {},
   "outputs": [],
   "source": [
    "shops_all = df['shopid'].unique()\n",
    "\n",
    "submission1 = pd.DataFrame({'shopid': shops_all, 'userid': np.zeros(len(shops_all))})\n",
    "\n",
    "submission1.userid = submission1.userid.astype('int')\n",
    "submission1.set_index('shopid', inplace=True)"
   ]
  },
  {
   "cell_type": "code",
   "execution_count": 170,
   "metadata": {
    "scrolled": true
   },
   "outputs": [
    {
     "data": {
      "text/html": [
       "<div>\n",
       "<style scoped>\n",
       "    .dataframe tbody tr th:only-of-type {\n",
       "        vertical-align: middle;\n",
       "    }\n",
       "\n",
       "    .dataframe tbody tr th {\n",
       "        vertical-align: top;\n",
       "    }\n",
       "\n",
       "    .dataframe thead th {\n",
       "        text-align: right;\n",
       "    }\n",
       "</style>\n",
       "<table border=\"1\" class=\"dataframe\">\n",
       "  <thead>\n",
       "    <tr style=\"text-align: right;\">\n",
       "      <th></th>\n",
       "      <th>userid</th>\n",
       "    </tr>\n",
       "    <tr>\n",
       "      <th>shopid</th>\n",
       "      <th></th>\n",
       "    </tr>\n",
       "  </thead>\n",
       "  <tbody>\n",
       "    <tr>\n",
       "      <th>93950878</th>\n",
       "      <td>0</td>\n",
       "    </tr>\n",
       "    <tr>\n",
       "      <th>156423439</th>\n",
       "      <td>0</td>\n",
       "    </tr>\n",
       "    <tr>\n",
       "      <th>173699291</th>\n",
       "      <td>0</td>\n",
       "    </tr>\n",
       "    <tr>\n",
       "      <th>63674025</th>\n",
       "      <td>0</td>\n",
       "    </tr>\n",
       "    <tr>\n",
       "      <th>127249066</th>\n",
       "      <td>0</td>\n",
       "    </tr>\n",
       "  </tbody>\n",
       "</table>\n",
       "</div>"
      ],
      "text/plain": [
       "           userid\n",
       "shopid           \n",
       "93950878        0\n",
       "156423439       0\n",
       "173699291       0\n",
       "63674025        0\n",
       "127249066       0"
      ]
     },
     "execution_count": 170,
     "metadata": {},
     "output_type": "execute_result"
    }
   ],
   "source": [
    "submission1.head()"
   ]
  },
  {
   "cell_type": "code",
   "execution_count": 171,
   "metadata": {},
   "outputs": [
    {
     "data": {
      "text/html": [
       "<div>\n",
       "<style scoped>\n",
       "    .dataframe tbody tr th:only-of-type {\n",
       "        vertical-align: middle;\n",
       "    }\n",
       "\n",
       "    .dataframe tbody tr th {\n",
       "        vertical-align: top;\n",
       "    }\n",
       "\n",
       "    .dataframe thead th {\n",
       "        text-align: right;\n",
       "    }\n",
       "</style>\n",
       "<table border=\"1\" class=\"dataframe\">\n",
       "  <thead>\n",
       "    <tr style=\"text-align: right;\">\n",
       "      <th></th>\n",
       "      <th>userid</th>\n",
       "    </tr>\n",
       "    <tr>\n",
       "      <th>shopid</th>\n",
       "      <th></th>\n",
       "    </tr>\n",
       "  </thead>\n",
       "  <tbody>\n",
       "    <tr>\n",
       "      <th>10402</th>\n",
       "      <td>77819</td>\n",
       "    </tr>\n",
       "    <tr>\n",
       "      <th>10536</th>\n",
       "      <td>672345</td>\n",
       "    </tr>\n",
       "    <tr>\n",
       "      <th>42472</th>\n",
       "      <td>740844</td>\n",
       "    </tr>\n",
       "    <tr>\n",
       "      <th>42818</th>\n",
       "      <td>170385453</td>\n",
       "    </tr>\n",
       "    <tr>\n",
       "      <th>76934</th>\n",
       "      <td>190449497</td>\n",
       "    </tr>\n",
       "  </tbody>\n",
       "</table>\n",
       "</div>"
      ],
      "text/plain": [
       "           userid\n",
       "shopid           \n",
       "10402       77819\n",
       "10536      672345\n",
       "42472      740844\n",
       "42818   170385453\n",
       "76934   190449497"
      ]
     },
     "execution_count": 171,
     "metadata": {},
     "output_type": "execute_result"
    }
   ],
   "source": [
    "suspicious.head()"
   ]
  },
  {
   "cell_type": "code",
   "execution_count": 172,
   "metadata": {},
   "outputs": [],
   "source": [
    "submission1.update(suspicious)"
   ]
  },
  {
   "cell_type": "code",
   "execution_count": 173,
   "metadata": {},
   "outputs": [
    {
     "data": {
      "text/plain": [
       "array([0, 9753706, 61893096, 181408876, 174145893, 114498557, 123158564,\n",
       "       52867898, 81928284, 31916119, 107641182, 214432120, 67554410,\n",
       "       192251866, 87846708, 18688337, 172106152, 170385453, 74027394,\n",
       "       131515076, 122507717, 156614746, 144612139, 188025647, 201343856,\n",
       "       6059093, 79419297, 32594, 194833170, 59725263, 205729485,\n",
       "       '81928284&198558630', '23962466&24053233&60599168&71152760',\n",
       "       '29857724&212200633', 108214177, 143847348, 157946285, 95058664,\n",
       "       137245836, 2779333, '5085857&15425170&203554877', 170673735,\n",
       "       31233680, 1762129, 186634585, 199382229, 157747326, 78903959,\n",
       "       138388930, 89014205, '5307816&214808165', 148215831, 193415051,\n",
       "       193338089, 33794624, 192785138, 29299481, 46361526, 116055684,\n",
       "       556867, 194647522, 93783570, 86802680, 105935455,\n",
       "       '92521144&130587573', 188187242, 214546342, 132704747, 15053804,\n",
       "       128702876, '35639374&159315857', 10209247, 51759862,\n",
       "       '16339607&212325226', 7670129, 80682958, 152710183, 1866916,\n",
       "       89312509, 29466045, 215293398, 211943763, 79239008, 214300427,\n",
       "       '1974334&77163646&107414154&164654586', 178491887, 58467478,\n",
       "       '202574985&215408773', 189834273, 197470611, 870607, 214605778,\n",
       "       214623481, 210932914, 92275977, 214680031, 124597967, 8405753,\n",
       "       192400689, 30244568, 76441165, 613919, 213714377,\n",
       "       '108402614&214866914', 191211430, 214327515, 81592089,\n",
       "       '101832161&214208720', 740844, 178640685, 11053808, 65814291,\n",
       "       136680607, 107170776, 181542467, 115994773, '187697407&215009429',\n",
       "       207880909, 672345, 73308605, 112649507, 169948888, 183440131,\n",
       "       37915675, 162389170, 62618064, 166678691, 77374158, 77819,\n",
       "       119654795, 48207392, 101866283, 31215088, 190449497, 89254393,\n",
       "       213646699, 214226569, 2097773, 10051694, 120099470, 62080153,\n",
       "       215301243, 111390406, 118860287, 75558350, 214411855, 15826134,\n",
       "       215123671, 198662175, 214431654, 98709440, 264511, 1276208,\n",
       "       215427525, '154495684&202707743', 2434757, 40929352, 204919399,\n",
       "       96046105, 179171579, 2824209, 114282846, 214628840, 214111334,\n",
       "       215169091, 214365114, 188431260, 12425335, 36097212, 214925963,\n",
       "       158048102, 102125116, 12597591, 215408773, 12869645, 180862522,\n",
       "       129799840, 214568881, 799445, 172591713, 181942741, 69563623],\n",
       "      dtype=object)"
      ]
     },
     "execution_count": 173,
     "metadata": {},
     "output_type": "execute_result"
    }
   ],
   "source": [
    "submission1.userid.unique()"
   ]
  },
  {
   "cell_type": "code",
   "execution_count": 174,
   "metadata": {},
   "outputs": [
    {
     "name": "stdout",
     "output_type": "stream",
     "text": [
      "(18770, 2)\n"
     ]
    }
   ],
   "source": [
    "submission1 = submission1.reset_index()\n",
    "print(submission1.shape)\n",
    "submission1.to_csv('submission1.csv', index=False)"
   ]
  }
 ],
 "metadata": {
  "kernelspec": {
   "display_name": "Python 3",
   "language": "python",
   "name": "python3"
  },
  "language_info": {
   "codemirror_mode": {
    "name": "ipython",
    "version": 3
   },
   "file_extension": ".py",
   "mimetype": "text/x-python",
   "name": "python",
   "nbconvert_exporter": "python",
   "pygments_lexer": "ipython3",
   "version": "3.7.7"
  }
 },
 "nbformat": 4,
 "nbformat_minor": 4
}
