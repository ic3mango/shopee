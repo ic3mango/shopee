{
 "cells": [
  {
   "cell_type": "markdown",
   "metadata": {},
   "source": [
    "## Task\n",
    "1. Identify all shops that are deemed to have conducted order brushing.\n",
    "2. For each shop that is identified to have conducted order brushing, identify the buyers suspected to have conducted order brushing for that shop.\n",
    "\n",
    "Definition of order brushing\n",
    "- concentration_rate >= 3\n",
    "- concentration_rate = num_orders_1hr / num_unique_buyer_1hr\n",
    "- **suspicious buyers** are deemed to be the buyer that contributed the highest proportion of orders to a shop"
   ]
  },
  {
   "cell_type": "code",
   "execution_count": 24,
   "metadata": {},
   "outputs": [],
   "source": [
    "import pandas as pd\n",
    "import numpy as np\n",
    "import matplotlib.pyplot as plt"
   ]
  },
  {
   "cell_type": "code",
   "execution_count": 25,
   "metadata": {},
   "outputs": [],
   "source": [
    "df = pd.read_csv('order_brush_order.csv')"
   ]
  },
  {
   "cell_type": "code",
   "execution_count": 4,
   "metadata": {},
   "outputs": [
    {
     "name": "stdout",
     "output_type": "stream",
     "text": [
      "<class 'pandas.core.frame.DataFrame'>\n",
      "RangeIndex: 222750 entries, 0 to 222749\n",
      "Data columns (total 4 columns):\n",
      " #   Column      Non-Null Count   Dtype \n",
      "---  ------      --------------   ----- \n",
      " 0   orderid     222750 non-null  int64 \n",
      " 1   shopid      222750 non-null  int64 \n",
      " 2   userid      222750 non-null  int64 \n",
      " 3   event_time  222750 non-null  object\n",
      "dtypes: int64(3), object(1)\n",
      "memory usage: 6.8+ MB\n"
     ]
    }
   ],
   "source": [
    "df.info()"
   ]
  },
  {
   "cell_type": "code",
   "execution_count": 5,
   "metadata": {},
   "outputs": [
    {
     "data": {
      "text/html": [
       "<div>\n",
       "<style scoped>\n",
       "    .dataframe tbody tr th:only-of-type {\n",
       "        vertical-align: middle;\n",
       "    }\n",
       "\n",
       "    .dataframe tbody tr th {\n",
       "        vertical-align: top;\n",
       "    }\n",
       "\n",
       "    .dataframe thead th {\n",
       "        text-align: right;\n",
       "    }\n",
       "</style>\n",
       "<table border=\"1\" class=\"dataframe\">\n",
       "  <thead>\n",
       "    <tr style=\"text-align: right;\">\n",
       "      <th></th>\n",
       "      <th>orderid</th>\n",
       "      <th>shopid</th>\n",
       "      <th>userid</th>\n",
       "    </tr>\n",
       "  </thead>\n",
       "  <tbody>\n",
       "    <tr>\n",
       "      <th>count</th>\n",
       "      <td>2.227500e+05</td>\n",
       "      <td>2.227500e+05</td>\n",
       "      <td>2.227500e+05</td>\n",
       "    </tr>\n",
       "    <tr>\n",
       "      <th>mean</th>\n",
       "      <td>3.130027e+13</td>\n",
       "      <td>9.433117e+07</td>\n",
       "      <td>9.802880e+07</td>\n",
       "    </tr>\n",
       "    <tr>\n",
       "      <th>std</th>\n",
       "      <td>1.222774e+11</td>\n",
       "      <td>5.695790e+07</td>\n",
       "      <td>6.839048e+07</td>\n",
       "    </tr>\n",
       "    <tr>\n",
       "      <th>min</th>\n",
       "      <td>3.107520e+13</td>\n",
       "      <td>1.000900e+04</td>\n",
       "      <td>1.000700e+04</td>\n",
       "    </tr>\n",
       "    <tr>\n",
       "      <th>25%</th>\n",
       "      <td>3.120360e+13</td>\n",
       "      <td>4.980267e+07</td>\n",
       "      <td>3.508127e+07</td>\n",
       "    </tr>\n",
       "    <tr>\n",
       "      <th>50%</th>\n",
       "      <td>3.130561e+13</td>\n",
       "      <td>9.033636e+07</td>\n",
       "      <td>9.309625e+07</td>\n",
       "    </tr>\n",
       "    <tr>\n",
       "      <th>75%</th>\n",
       "      <td>3.140604e+13</td>\n",
       "      <td>1.475053e+08</td>\n",
       "      <td>1.590612e+08</td>\n",
       "    </tr>\n",
       "    <tr>\n",
       "      <th>max</th>\n",
       "      <td>3.150720e+13</td>\n",
       "      <td>2.154352e+08</td>\n",
       "      <td>2.155262e+08</td>\n",
       "    </tr>\n",
       "  </tbody>\n",
       "</table>\n",
       "</div>"
      ],
      "text/plain": [
       "            orderid        shopid        userid\n",
       "count  2.227500e+05  2.227500e+05  2.227500e+05\n",
       "mean   3.130027e+13  9.433117e+07  9.802880e+07\n",
       "std    1.222774e+11  5.695790e+07  6.839048e+07\n",
       "min    3.107520e+13  1.000900e+04  1.000700e+04\n",
       "25%    3.120360e+13  4.980267e+07  3.508127e+07\n",
       "50%    3.130561e+13  9.033636e+07  9.309625e+07\n",
       "75%    3.140604e+13  1.475053e+08  1.590612e+08\n",
       "max    3.150720e+13  2.154352e+08  2.155262e+08"
      ]
     },
     "execution_count": 5,
     "metadata": {},
     "output_type": "execute_result"
    }
   ],
   "source": [
    "df.describe()"
   ]
  },
  {
   "cell_type": "code",
   "execution_count": 6,
   "metadata": {},
   "outputs": [
    {
     "data": {
      "text/plain": [
       "('2019-12-27 00:00:00', '2019-12-31 23:59:56')"
      ]
     },
     "execution_count": 6,
     "metadata": {},
     "output_type": "execute_result"
    }
   ],
   "source": [
    "df.event_time.min(), df.event_time.max()"
   ]
  },
  {
   "cell_type": "code",
   "execution_count": 31,
   "metadata": {},
   "outputs": [],
   "source": [
    "df['event_time'] = df['event_time'].astype('datetime64[ns]')\n",
    "df = df.set_index('event_time').sort_index()"
   ]
  },
  {
   "cell_type": "markdown",
   "metadata": {},
   "source": [
    "### Trying to define whether order brushing has occurred"
   ]
  },
  {
   "cell_type": "markdown",
   "metadata": {},
   "source": [
    "> Detect instataneous concentration rate spikes"
   ]
  },
  {
   "cell_type": "code",
   "execution_count": 79,
   "metadata": {},
   "outputs": [
    {
     "data": {
      "text/html": [
       "<div>\n",
       "<style scoped>\n",
       "    .dataframe tbody tr th:only-of-type {\n",
       "        vertical-align: middle;\n",
       "    }\n",
       "\n",
       "    .dataframe tbody tr th {\n",
       "        vertical-align: top;\n",
       "    }\n",
       "\n",
       "    .dataframe thead th {\n",
       "        text-align: right;\n",
       "    }\n",
       "</style>\n",
       "<table border=\"1\" class=\"dataframe\">\n",
       "  <thead>\n",
       "    <tr style=\"text-align: right;\">\n",
       "      <th></th>\n",
       "      <th>orderid</th>\n",
       "      <th>shopid</th>\n",
       "      <th>userid</th>\n",
       "    </tr>\n",
       "    <tr>\n",
       "      <th>event_time</th>\n",
       "      <th></th>\n",
       "      <th></th>\n",
       "      <th></th>\n",
       "    </tr>\n",
       "  </thead>\n",
       "  <tbody>\n",
       "    <tr>\n",
       "      <th>2019-12-27 00:00:00</th>\n",
       "      <td>31075200506751</td>\n",
       "      <td>6042309</td>\n",
       "      <td>97707522</td>\n",
       "    </tr>\n",
       "    <tr>\n",
       "      <th>2019-12-27 00:00:00</th>\n",
       "      <td>31075200506752</td>\n",
       "      <td>104804492</td>\n",
       "      <td>97707522</td>\n",
       "    </tr>\n",
       "    <tr>\n",
       "      <th>2019-12-27 00:00:00</th>\n",
       "      <td>31075200506753</td>\n",
       "      <td>8715449</td>\n",
       "      <td>97707522</td>\n",
       "    </tr>\n",
       "    <tr>\n",
       "      <th>2019-12-27 00:00:02</th>\n",
       "      <td>31075201870570</td>\n",
       "      <td>190969466</td>\n",
       "      <td>170182475</td>\n",
       "    </tr>\n",
       "    <tr>\n",
       "      <th>2019-12-27 00:00:05</th>\n",
       "      <td>31075205798264</td>\n",
       "      <td>2859407</td>\n",
       "      <td>12532131</td>\n",
       "    </tr>\n",
       "  </tbody>\n",
       "</table>\n",
       "</div>"
      ],
      "text/plain": [
       "                            orderid     shopid     userid\n",
       "event_time                                               \n",
       "2019-12-27 00:00:00  31075200506751    6042309   97707522\n",
       "2019-12-27 00:00:00  31075200506752  104804492   97707522\n",
       "2019-12-27 00:00:00  31075200506753    8715449   97707522\n",
       "2019-12-27 00:00:02  31075201870570  190969466  170182475\n",
       "2019-12-27 00:00:05  31075205798264    2859407   12532131"
      ]
     },
     "execution_count": 79,
     "metadata": {},
     "output_type": "execute_result"
    }
   ],
   "source": [
    "df.head()"
   ]
  },
  {
   "cell_type": "code",
   "execution_count": 90,
   "metadata": {},
   "outputs": [],
   "source": [
    "def nunique(arr):\n",
    "    return len(set(arr))\n",
    "\n",
    "orders_shop_1h = df.groupby('shopid').rolling('1h', min_periods=3).orderid.count()\n",
    "buyers_shop_1h = df.groupby('shopid').rolling('1h', min_periods=3).userid.apply(nunique)"
   ]
  },
  {
   "cell_type": "code",
   "execution_count": 91,
   "metadata": {
    "scrolled": true
   },
   "outputs": [
    {
     "data": {
      "text/plain": [
       "shopid     event_time         \n",
       "10009      2019-12-27 03:06:50   NaN\n",
       "10051      2019-12-27 19:16:11   NaN\n",
       "           2019-12-29 01:56:19   NaN\n",
       "10061      2019-12-28 09:27:55   NaN\n",
       "           2019-12-28 12:05:32   NaN\n",
       "                                  ..\n",
       "214949521  2019-12-31 20:06:43   NaN\n",
       "214964814  2019-12-29 22:26:16   NaN\n",
       "215175775  2019-12-31 09:06:31   NaN\n",
       "           2019-12-31 14:14:37   NaN\n",
       "215435223  2019-12-31 18:34:56   NaN\n",
       "Name: orderid, Length: 222750, dtype: float64"
      ]
     },
     "execution_count": 91,
     "metadata": {},
     "output_type": "execute_result"
    }
   ],
   "source": [
    "orders_shop_1h"
   ]
  },
  {
   "cell_type": "code",
   "execution_count": 132,
   "metadata": {},
   "outputs": [],
   "source": [
    "concentration = orders_shop_1h / buyers_shop_1h\n",
    "concentration_spikes = concentration >= 1.5\n",
    "concentration_events = concentration_spikes.index[concentration_spikes].values"
   ]
  },
  {
   "cell_type": "code",
   "execution_count": 133,
   "metadata": {},
   "outputs": [
    {
     "data": {
      "text/plain": [
       "array([(10084, Timestamp('2019-12-28 22:34:49')),\n",
       "       (10151, Timestamp('2019-12-29 02:29:23')),\n",
       "       (10151, Timestamp('2019-12-30 21:14:46')), ...,\n",
       "       (213141071, Timestamp('2019-12-27 01:42:23')),\n",
       "       (213900783, Timestamp('2019-12-29 23:04:33')),\n",
       "       (214432425, Timestamp('2019-12-31 23:46:35'))], dtype=object)"
      ]
     },
     "execution_count": 133,
     "metadata": {},
     "output_type": "execute_result"
    }
   ],
   "source": [
    "concentration_events"
   ]
  },
  {
   "cell_type": "code",
   "execution_count": 134,
   "metadata": {},
   "outputs": [
    {
     "data": {
      "text/plain": [
       "(9039, 3)"
      ]
     },
     "execution_count": 134,
     "metadata": {},
     "output_type": "execute_result"
    }
   ],
   "source": [
    "events = []\n",
    "\n",
    "for shopid, timestamp in concentration_events:\n",
    "    event_start = timestamp - pd.Timedelta('1 hours')\n",
    "    event_end = timestamp\n",
    "    event = df[(df['shopid'] == shopid) & (df.index >= event_start) & (df.index <= event_end)]\n",
    "    events.append(event)\n",
    "    \n",
    "df_events = pd.concat(events)\n",
    "\n",
    "df_events.shape"
   ]
  },
  {
   "cell_type": "code",
   "execution_count": 135,
   "metadata": {},
   "outputs": [
    {
     "data": {
      "text/html": [
       "<div>\n",
       "<style scoped>\n",
       "    .dataframe tbody tr th:only-of-type {\n",
       "        vertical-align: middle;\n",
       "    }\n",
       "\n",
       "    .dataframe tbody tr th {\n",
       "        vertical-align: top;\n",
       "    }\n",
       "\n",
       "    .dataframe thead th {\n",
       "        text-align: right;\n",
       "    }\n",
       "</style>\n",
       "<table border=\"1\" class=\"dataframe\">\n",
       "  <thead>\n",
       "    <tr style=\"text-align: right;\">\n",
       "      <th></th>\n",
       "      <th>orderid</th>\n",
       "      <th>shopid</th>\n",
       "      <th>userid</th>\n",
       "    </tr>\n",
       "    <tr>\n",
       "      <th>event_time</th>\n",
       "      <th></th>\n",
       "      <th></th>\n",
       "      <th></th>\n",
       "    </tr>\n",
       "  </thead>\n",
       "  <tbody>\n",
       "    <tr>\n",
       "      <th>2019-12-28 21:55:12</th>\n",
       "      <td>31240511163713</td>\n",
       "      <td>10084</td>\n",
       "      <td>167932181</td>\n",
       "    </tr>\n",
       "    <tr>\n",
       "      <th>2019-12-28 22:29:57</th>\n",
       "      <td>31242597715742</td>\n",
       "      <td>10084</td>\n",
       "      <td>180772892</td>\n",
       "    </tr>\n",
       "    <tr>\n",
       "      <th>2019-12-28 22:34:49</th>\n",
       "      <td>31242888812765</td>\n",
       "      <td>10084</td>\n",
       "      <td>180772892</td>\n",
       "    </tr>\n",
       "    <tr>\n",
       "      <th>2019-12-29 02:00:32</th>\n",
       "      <td>31255231246682</td>\n",
       "      <td>10151</td>\n",
       "      <td>43528657</td>\n",
       "    </tr>\n",
       "    <tr>\n",
       "      <th>2019-12-29 02:25:31</th>\n",
       "      <td>31256731116451</td>\n",
       "      <td>10151</td>\n",
       "      <td>91471576</td>\n",
       "    </tr>\n",
       "  </tbody>\n",
       "</table>\n",
       "</div>"
      ],
      "text/plain": [
       "                            orderid  shopid     userid\n",
       "event_time                                            \n",
       "2019-12-28 21:55:12  31240511163713   10084  167932181\n",
       "2019-12-28 22:29:57  31242597715742   10084  180772892\n",
       "2019-12-28 22:34:49  31242888812765   10084  180772892\n",
       "2019-12-29 02:00:32  31255231246682   10151   43528657\n",
       "2019-12-29 02:25:31  31256731116451   10151   91471576"
      ]
     },
     "execution_count": 135,
     "metadata": {},
     "output_type": "execute_result"
    }
   ],
   "source": [
    "df_events.head()"
   ]
  },
  {
   "cell_type": "code",
   "execution_count": 142,
   "metadata": {},
   "outputs": [],
   "source": [
    "def extract_common_value(x):\n",
    "    mode_list = x.mode()\n",
    "    if len(mode_list) <= 1:\n",
    "        return mode_list[0]\n",
    "    else:\n",
    "        return '&'.join([str(c) for c in sorted(mode_list)])"
   ]
  },
  {
   "cell_type": "code",
   "execution_count": 143,
   "metadata": {},
   "outputs": [],
   "source": [
    "order_brush = df_events.groupby('shopid')['userid'].apply(extract_common_value)\n",
    "order_brush = order_brush.to_frame()"
   ]
  },
  {
   "cell_type": "code",
   "execution_count": 144,
   "metadata": {
    "scrolled": true
   },
   "outputs": [
    {
     "data": {
      "text/html": [
       "<div>\n",
       "<style scoped>\n",
       "    .dataframe tbody tr th:only-of-type {\n",
       "        vertical-align: middle;\n",
       "    }\n",
       "\n",
       "    .dataframe tbody tr th {\n",
       "        vertical-align: top;\n",
       "    }\n",
       "\n",
       "    .dataframe thead th {\n",
       "        text-align: right;\n",
       "    }\n",
       "</style>\n",
       "<table border=\"1\" class=\"dataframe\">\n",
       "  <thead>\n",
       "    <tr style=\"text-align: right;\">\n",
       "      <th></th>\n",
       "      <th>userid</th>\n",
       "    </tr>\n",
       "    <tr>\n",
       "      <th>shopid</th>\n",
       "      <th></th>\n",
       "    </tr>\n",
       "  </thead>\n",
       "  <tbody>\n",
       "    <tr>\n",
       "      <th>11284464</th>\n",
       "      <td>126654586</td>\n",
       "    </tr>\n",
       "    <tr>\n",
       "      <th>111184668</th>\n",
       "      <td>16479121</td>\n",
       "    </tr>\n",
       "    <tr>\n",
       "      <th>111674507</th>\n",
       "      <td>74505142</td>\n",
       "    </tr>\n",
       "    <tr>\n",
       "      <th>133312433</th>\n",
       "      <td>16798544</td>\n",
       "    </tr>\n",
       "    <tr>\n",
       "      <th>131393410</th>\n",
       "      <td>61285147</td>\n",
       "    </tr>\n",
       "    <tr>\n",
       "      <th>107234749</th>\n",
       "      <td>194625392</td>\n",
       "    </tr>\n",
       "    <tr>\n",
       "      <th>64881881</th>\n",
       "      <td>75582248</td>\n",
       "    </tr>\n",
       "    <tr>\n",
       "      <th>166488971</th>\n",
       "      <td>86341361</td>\n",
       "    </tr>\n",
       "    <tr>\n",
       "      <th>19216692</th>\n",
       "      <td>193338089</td>\n",
       "    </tr>\n",
       "    <tr>\n",
       "      <th>132716330</th>\n",
       "      <td>55375223</td>\n",
       "    </tr>\n",
       "  </tbody>\n",
       "</table>\n",
       "</div>"
      ],
      "text/plain": [
       "              userid\n",
       "shopid              \n",
       "11284464   126654586\n",
       "111184668   16479121\n",
       "111674507   74505142\n",
       "133312433   16798544\n",
       "131393410   61285147\n",
       "107234749  194625392\n",
       "64881881    75582248\n",
       "166488971   86341361\n",
       "19216692   193338089\n",
       "132716330   55375223"
      ]
     },
     "execution_count": 144,
     "metadata": {},
     "output_type": "execute_result"
    }
   ],
   "source": [
    "order_brush.sample(10)"
   ]
  },
  {
   "cell_type": "code",
   "execution_count": 145,
   "metadata": {},
   "outputs": [
    {
     "data": {
      "text/plain": [
       "(1307, 1)"
      ]
     },
     "execution_count": 145,
     "metadata": {},
     "output_type": "execute_result"
    }
   ],
   "source": [
    "order_brush.shape"
   ]
  },
  {
   "cell_type": "markdown",
   "metadata": {},
   "source": [
    "### Preparing for Submission"
   ]
  },
  {
   "cell_type": "code",
   "execution_count": 140,
   "metadata": {},
   "outputs": [],
   "source": [
    "def make_new_submission(num, order_brush):\n",
    "    shops_all = df['shopid'].unique()\n",
    "\n",
    "    submission = pd.DataFrame({'shopid': shops_all, 'userid': np.zeros(len(shops_all))})\n",
    "\n",
    "    submission.userid = submission.userid.astype('int')\n",
    "    submission.set_index('shopid', inplace=True)\n",
    "    submission.update(order_brush)\n",
    "    submission = submission.reset_index()\n",
    "    \n",
    "    submission.to_csv('submission{}.csv'.format(num), index=False)\n",
    "    return submission"
   ]
  },
  {
   "cell_type": "code",
   "execution_count": 146,
   "metadata": {},
   "outputs": [
    {
     "data": {
      "text/plain": [
       "(18770, 2)"
      ]
     },
     "execution_count": 146,
     "metadata": {},
     "output_type": "execute_result"
    }
   ],
   "source": [
    "new_submission = make_new_submission(8, order_brush)\n",
    "\n",
    "new_submission.shape"
   ]
  },
  {
   "cell_type": "code",
   "execution_count": null,
   "metadata": {},
   "outputs": [],
   "source": []
  }
 ],
 "metadata": {
  "kernelspec": {
   "display_name": "Python 3",
   "language": "python",
   "name": "python3"
  },
  "language_info": {
   "codemirror_mode": {
    "name": "ipython",
    "version": 3
   },
   "file_extension": ".py",
   "mimetype": "text/x-python",
   "name": "python",
   "nbconvert_exporter": "python",
   "pygments_lexer": "ipython3",
   "version": "3.7.7"
  }
 },
 "nbformat": 4,
 "nbformat_minor": 4
}
